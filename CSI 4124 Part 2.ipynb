{
 "cells": [
  {
   "cell_type": "code",
   "execution_count": 1,
   "id": "60569895",
   "metadata": {},
   "outputs": [],
   "source": [
    "import pandas as pd"
   ]
  },
  {
   "cell_type": "code",
   "execution_count": 51,
   "id": "e54e7525",
   "metadata": {},
   "outputs": [],
   "source": [
    "def data_summary(dataset):\n",
    "    print(\"----------Null Values----------\\n\", cpi.isnull().sum())\n",
    "    print(\"\\n----------Duplicate Values----------\\n\", cpi.duplicated().sum())\n",
    "\n",
    "    for column in dataset.columns:\n",
    "        unique_values = dataset[column].unique()\n",
    "        print(f\"\\nUnique values in column '{column}': {unique_values}\")"
   ]
  },
  {
   "cell_type": "markdown",
   "id": "e37f13de",
   "metadata": {},
   "source": [
    "## Import Datasets and Preview Data"
   ]
  },
  {
   "cell_type": "code",
   "execution_count": 44,
   "id": "274a3d31",
   "metadata": {
    "scrolled": true
   },
   "outputs": [],
   "source": [
    "cpi_url = \"https://raw.githubusercontent.com/laurgu/CSI-4124-Term-Project/Part2/Datasets/CPI.csv\"\n",
    "sales_url = \"https://raw.githubusercontent.com/laurgu/CSI-4124-Term-Project/Part2/Datasets/CarSales.csv\"\n",
    "features_url = \"https://raw.githubusercontent.com/laurgu/CSI-4124-Term-Project/Part2/Datasets/CarFeatures.csv\"\n",
    "\n",
    "cpi = pd.read_csv(cpi_url)\n",
    "sales = pd.read_csv(sales_url)\n",
    "features = pd.read_csv(features_url)"
   ]
  },
  {
   "cell_type": "code",
   "execution_count": 18,
   "id": "040c4788",
   "metadata": {
    "scrolled": true
   },
   "outputs": [
    {
     "data": {
      "text/html": [
       "<div>\n",
       "<style scoped>\n",
       "    .dataframe tbody tr th:only-of-type {\n",
       "        vertical-align: middle;\n",
       "    }\n",
       "\n",
       "    .dataframe tbody tr th {\n",
       "        vertical-align: top;\n",
       "    }\n",
       "\n",
       "    .dataframe thead th {\n",
       "        text-align: right;\n",
       "    }\n",
       "</style>\n",
       "<table border=\"1\" class=\"dataframe\">\n",
       "  <thead>\n",
       "    <tr style=\"text-align: right;\">\n",
       "      <th></th>\n",
       "      <th>DATE</th>\n",
       "      <th>CPI</th>\n",
       "    </tr>\n",
       "  </thead>\n",
       "  <tbody>\n",
       "    <tr>\n",
       "      <th>0</th>\n",
       "      <td>1947-01-01</td>\n",
       "      <td>21.48</td>\n",
       "    </tr>\n",
       "    <tr>\n",
       "      <th>1</th>\n",
       "      <td>1947-02-01</td>\n",
       "      <td>21.62</td>\n",
       "    </tr>\n",
       "    <tr>\n",
       "      <th>2</th>\n",
       "      <td>1947-03-01</td>\n",
       "      <td>22.00</td>\n",
       "    </tr>\n",
       "    <tr>\n",
       "      <th>3</th>\n",
       "      <td>1947-04-01</td>\n",
       "      <td>22.00</td>\n",
       "    </tr>\n",
       "    <tr>\n",
       "      <th>4</th>\n",
       "      <td>1947-05-01</td>\n",
       "      <td>21.95</td>\n",
       "    </tr>\n",
       "  </tbody>\n",
       "</table>\n",
       "</div>"
      ],
      "text/plain": [
       "         DATE    CPI\n",
       "0  1947-01-01  21.48\n",
       "1  1947-02-01  21.62\n",
       "2  1947-03-01  22.00\n",
       "3  1947-04-01  22.00\n",
       "4  1947-05-01  21.95"
      ]
     },
     "execution_count": 18,
     "metadata": {},
     "output_type": "execute_result"
    }
   ],
   "source": [
    "cpi.head()\n",
    "\n",
    "cpi = cpi.rename(columns={'CPIAUCSL': 'CPI'})\n",
    "cpi.head()"
   ]
  },
  {
   "cell_type": "code",
   "execution_count": 39,
   "id": "1363c136",
   "metadata": {
    "scrolled": true
   },
   "outputs": [
    {
     "data": {
      "text/html": [
       "<div>\n",
       "<style scoped>\n",
       "    .dataframe tbody tr th:only-of-type {\n",
       "        vertical-align: middle;\n",
       "    }\n",
       "\n",
       "    .dataframe tbody tr th {\n",
       "        vertical-align: top;\n",
       "    }\n",
       "\n",
       "    .dataframe thead th {\n",
       "        text-align: right;\n",
       "    }\n",
       "</style>\n",
       "<table border=\"1\" class=\"dataframe\">\n",
       "  <thead>\n",
       "    <tr style=\"text-align: right;\">\n",
       "      <th></th>\n",
       "      <th>Car_id</th>\n",
       "      <th>Date</th>\n",
       "      <th>Customer Name</th>\n",
       "      <th>Gender</th>\n",
       "      <th>Annual Income</th>\n",
       "      <th>Dealer_Name</th>\n",
       "      <th>Company</th>\n",
       "      <th>Model</th>\n",
       "      <th>Engine</th>\n",
       "      <th>Transmission</th>\n",
       "      <th>Color</th>\n",
       "      <th>Price ($)</th>\n",
       "      <th>Dealer_No</th>\n",
       "      <th>Body Style</th>\n",
       "      <th>Phone</th>\n",
       "      <th>Dealer_Region</th>\n",
       "    </tr>\n",
       "  </thead>\n",
       "  <tbody>\n",
       "    <tr>\n",
       "      <th>0</th>\n",
       "      <td>C_CND_000001</td>\n",
       "      <td>1/2/2022</td>\n",
       "      <td>Geraldine</td>\n",
       "      <td>Male</td>\n",
       "      <td>13500</td>\n",
       "      <td>Buddy Storbeck's Diesel Service Inc</td>\n",
       "      <td>Ford</td>\n",
       "      <td>Expedition</td>\n",
       "      <td>DoubleÂ Overhead Camshaft</td>\n",
       "      <td>Auto</td>\n",
       "      <td>Black</td>\n",
       "      <td>26000</td>\n",
       "      <td>06457-3834</td>\n",
       "      <td>SUV</td>\n",
       "      <td>8264678</td>\n",
       "      <td>Middletown</td>\n",
       "    </tr>\n",
       "    <tr>\n",
       "      <th>1</th>\n",
       "      <td>C_CND_000002</td>\n",
       "      <td>1/2/2022</td>\n",
       "      <td>Gia</td>\n",
       "      <td>Male</td>\n",
       "      <td>1480000</td>\n",
       "      <td>C &amp; M Motors Inc</td>\n",
       "      <td>Dodge</td>\n",
       "      <td>Durango</td>\n",
       "      <td>DoubleÂ Overhead Camshaft</td>\n",
       "      <td>Auto</td>\n",
       "      <td>Black</td>\n",
       "      <td>19000</td>\n",
       "      <td>60504-7114</td>\n",
       "      <td>SUV</td>\n",
       "      <td>6848189</td>\n",
       "      <td>Aurora</td>\n",
       "    </tr>\n",
       "    <tr>\n",
       "      <th>2</th>\n",
       "      <td>C_CND_000003</td>\n",
       "      <td>1/2/2022</td>\n",
       "      <td>Gianna</td>\n",
       "      <td>Male</td>\n",
       "      <td>1035000</td>\n",
       "      <td>Capitol KIA</td>\n",
       "      <td>Cadillac</td>\n",
       "      <td>Eldorado</td>\n",
       "      <td>Overhead Camshaft</td>\n",
       "      <td>Manual</td>\n",
       "      <td>Red</td>\n",
       "      <td>31500</td>\n",
       "      <td>38701-8047</td>\n",
       "      <td>Passenger</td>\n",
       "      <td>7298798</td>\n",
       "      <td>Greenville</td>\n",
       "    </tr>\n",
       "    <tr>\n",
       "      <th>3</th>\n",
       "      <td>C_CND_000004</td>\n",
       "      <td>1/2/2022</td>\n",
       "      <td>Giselle</td>\n",
       "      <td>Male</td>\n",
       "      <td>13500</td>\n",
       "      <td>Chrysler of Tri-Cities</td>\n",
       "      <td>Toyota</td>\n",
       "      <td>Celica</td>\n",
       "      <td>Overhead Camshaft</td>\n",
       "      <td>Manual</td>\n",
       "      <td>Pale White</td>\n",
       "      <td>14000</td>\n",
       "      <td>99301-3882</td>\n",
       "      <td>SUV</td>\n",
       "      <td>6257557</td>\n",
       "      <td>Pasco</td>\n",
       "    </tr>\n",
       "    <tr>\n",
       "      <th>4</th>\n",
       "      <td>C_CND_000005</td>\n",
       "      <td>1/2/2022</td>\n",
       "      <td>Grace</td>\n",
       "      <td>Male</td>\n",
       "      <td>1465000</td>\n",
       "      <td>Chrysler Plymouth</td>\n",
       "      <td>Acura</td>\n",
       "      <td>TL</td>\n",
       "      <td>DoubleÂ Overhead Camshaft</td>\n",
       "      <td>Auto</td>\n",
       "      <td>Red</td>\n",
       "      <td>24500</td>\n",
       "      <td>53546-9427</td>\n",
       "      <td>Hatchback</td>\n",
       "      <td>7081483</td>\n",
       "      <td>Janesville</td>\n",
       "    </tr>\n",
       "  </tbody>\n",
       "</table>\n",
       "</div>"
      ],
      "text/plain": [
       "         Car_id      Date Customer Name Gender  Annual Income  \\\n",
       "0  C_CND_000001  1/2/2022     Geraldine   Male          13500   \n",
       "1  C_CND_000002  1/2/2022           Gia   Male        1480000   \n",
       "2  C_CND_000003  1/2/2022        Gianna   Male        1035000   \n",
       "3  C_CND_000004  1/2/2022       Giselle   Male          13500   \n",
       "4  C_CND_000005  1/2/2022         Grace   Male        1465000   \n",
       "\n",
       "                           Dealer_Name   Company       Model  \\\n",
       "0  Buddy Storbeck's Diesel Service Inc      Ford  Expedition   \n",
       "1                     C & M Motors Inc     Dodge     Durango   \n",
       "2                          Capitol KIA  Cadillac    Eldorado   \n",
       "3               Chrysler of Tri-Cities    Toyota      Celica   \n",
       "4                    Chrysler Plymouth     Acura          TL   \n",
       "\n",
       "                      Engine Transmission       Color  Price ($)  Dealer_No   \\\n",
       "0  DoubleÂ Overhead Camshaft         Auto       Black      26000  06457-3834   \n",
       "1  DoubleÂ Overhead Camshaft         Auto       Black      19000  60504-7114   \n",
       "2          Overhead Camshaft       Manual         Red      31500  38701-8047   \n",
       "3          Overhead Camshaft       Manual  Pale White      14000  99301-3882   \n",
       "4  DoubleÂ Overhead Camshaft         Auto         Red      24500  53546-9427   \n",
       "\n",
       "  Body Style    Phone Dealer_Region  \n",
       "0        SUV  8264678    Middletown  \n",
       "1        SUV  6848189        Aurora  \n",
       "2  Passenger  7298798    Greenville  \n",
       "3        SUV  6257557         Pasco  \n",
       "4  Hatchback  7081483    Janesville  "
      ]
     },
     "execution_count": 39,
     "metadata": {},
     "output_type": "execute_result"
    }
   ],
   "source": [
    "sales.head()"
   ]
  },
  {
   "cell_type": "code",
   "execution_count": 20,
   "id": "f8bdf3c4",
   "metadata": {
    "scrolled": true
   },
   "outputs": [
    {
     "data": {
      "text/html": [
       "<div>\n",
       "<style scoped>\n",
       "    .dataframe tbody tr th:only-of-type {\n",
       "        vertical-align: middle;\n",
       "    }\n",
       "\n",
       "    .dataframe tbody tr th {\n",
       "        vertical-align: top;\n",
       "    }\n",
       "\n",
       "    .dataframe thead th {\n",
       "        text-align: right;\n",
       "    }\n",
       "</style>\n",
       "<table border=\"1\" class=\"dataframe\">\n",
       "  <thead>\n",
       "    <tr style=\"text-align: right;\">\n",
       "      <th></th>\n",
       "      <th>Make</th>\n",
       "      <th>Model</th>\n",
       "      <th>Year</th>\n",
       "      <th>Engine Fuel Type</th>\n",
       "      <th>Engine HP</th>\n",
       "      <th>Engine Cylinders</th>\n",
       "      <th>Transmission Type</th>\n",
       "      <th>Driven_Wheels</th>\n",
       "      <th>Number of Doors</th>\n",
       "      <th>Market Category</th>\n",
       "      <th>Vehicle Size</th>\n",
       "      <th>Vehicle Style</th>\n",
       "      <th>highway MPG</th>\n",
       "      <th>city mpg</th>\n",
       "      <th>Popularity</th>\n",
       "      <th>MSRP</th>\n",
       "    </tr>\n",
       "  </thead>\n",
       "  <tbody>\n",
       "    <tr>\n",
       "      <th>0</th>\n",
       "      <td>BMW</td>\n",
       "      <td>1 Series M</td>\n",
       "      <td>2011</td>\n",
       "      <td>premium unleaded (required)</td>\n",
       "      <td>335.0</td>\n",
       "      <td>6.0</td>\n",
       "      <td>MANUAL</td>\n",
       "      <td>rear wheel drive</td>\n",
       "      <td>2.0</td>\n",
       "      <td>Factory Tuner,Luxury,High-Performance</td>\n",
       "      <td>Compact</td>\n",
       "      <td>Coupe</td>\n",
       "      <td>26</td>\n",
       "      <td>19</td>\n",
       "      <td>3916</td>\n",
       "      <td>46135</td>\n",
       "    </tr>\n",
       "    <tr>\n",
       "      <th>1</th>\n",
       "      <td>BMW</td>\n",
       "      <td>1 Series</td>\n",
       "      <td>2011</td>\n",
       "      <td>premium unleaded (required)</td>\n",
       "      <td>300.0</td>\n",
       "      <td>6.0</td>\n",
       "      <td>MANUAL</td>\n",
       "      <td>rear wheel drive</td>\n",
       "      <td>2.0</td>\n",
       "      <td>Luxury,Performance</td>\n",
       "      <td>Compact</td>\n",
       "      <td>Convertible</td>\n",
       "      <td>28</td>\n",
       "      <td>19</td>\n",
       "      <td>3916</td>\n",
       "      <td>40650</td>\n",
       "    </tr>\n",
       "    <tr>\n",
       "      <th>2</th>\n",
       "      <td>BMW</td>\n",
       "      <td>1 Series</td>\n",
       "      <td>2011</td>\n",
       "      <td>premium unleaded (required)</td>\n",
       "      <td>300.0</td>\n",
       "      <td>6.0</td>\n",
       "      <td>MANUAL</td>\n",
       "      <td>rear wheel drive</td>\n",
       "      <td>2.0</td>\n",
       "      <td>Luxury,High-Performance</td>\n",
       "      <td>Compact</td>\n",
       "      <td>Coupe</td>\n",
       "      <td>28</td>\n",
       "      <td>20</td>\n",
       "      <td>3916</td>\n",
       "      <td>36350</td>\n",
       "    </tr>\n",
       "    <tr>\n",
       "      <th>3</th>\n",
       "      <td>BMW</td>\n",
       "      <td>1 Series</td>\n",
       "      <td>2011</td>\n",
       "      <td>premium unleaded (required)</td>\n",
       "      <td>230.0</td>\n",
       "      <td>6.0</td>\n",
       "      <td>MANUAL</td>\n",
       "      <td>rear wheel drive</td>\n",
       "      <td>2.0</td>\n",
       "      <td>Luxury,Performance</td>\n",
       "      <td>Compact</td>\n",
       "      <td>Coupe</td>\n",
       "      <td>28</td>\n",
       "      <td>18</td>\n",
       "      <td>3916</td>\n",
       "      <td>29450</td>\n",
       "    </tr>\n",
       "    <tr>\n",
       "      <th>4</th>\n",
       "      <td>BMW</td>\n",
       "      <td>1 Series</td>\n",
       "      <td>2011</td>\n",
       "      <td>premium unleaded (required)</td>\n",
       "      <td>230.0</td>\n",
       "      <td>6.0</td>\n",
       "      <td>MANUAL</td>\n",
       "      <td>rear wheel drive</td>\n",
       "      <td>2.0</td>\n",
       "      <td>Luxury</td>\n",
       "      <td>Compact</td>\n",
       "      <td>Convertible</td>\n",
       "      <td>28</td>\n",
       "      <td>18</td>\n",
       "      <td>3916</td>\n",
       "      <td>34500</td>\n",
       "    </tr>\n",
       "  </tbody>\n",
       "</table>\n",
       "</div>"
      ],
      "text/plain": [
       "  Make       Model  Year             Engine Fuel Type  Engine HP  \\\n",
       "0  BMW  1 Series M  2011  premium unleaded (required)      335.0   \n",
       "1  BMW    1 Series  2011  premium unleaded (required)      300.0   \n",
       "2  BMW    1 Series  2011  premium unleaded (required)      300.0   \n",
       "3  BMW    1 Series  2011  premium unleaded (required)      230.0   \n",
       "4  BMW    1 Series  2011  premium unleaded (required)      230.0   \n",
       "\n",
       "   Engine Cylinders Transmission Type     Driven_Wheels  Number of Doors  \\\n",
       "0               6.0            MANUAL  rear wheel drive              2.0   \n",
       "1               6.0            MANUAL  rear wheel drive              2.0   \n",
       "2               6.0            MANUAL  rear wheel drive              2.0   \n",
       "3               6.0            MANUAL  rear wheel drive              2.0   \n",
       "4               6.0            MANUAL  rear wheel drive              2.0   \n",
       "\n",
       "                         Market Category Vehicle Size Vehicle Style  \\\n",
       "0  Factory Tuner,Luxury,High-Performance      Compact         Coupe   \n",
       "1                     Luxury,Performance      Compact   Convertible   \n",
       "2                Luxury,High-Performance      Compact         Coupe   \n",
       "3                     Luxury,Performance      Compact         Coupe   \n",
       "4                                 Luxury      Compact   Convertible   \n",
       "\n",
       "   highway MPG  city mpg  Popularity   MSRP  \n",
       "0           26        19        3916  46135  \n",
       "1           28        19        3916  40650  \n",
       "2           28        20        3916  36350  \n",
       "3           28        18        3916  29450  \n",
       "4           28        18        3916  34500  "
      ]
     },
     "execution_count": 20,
     "metadata": {},
     "output_type": "execute_result"
    }
   ],
   "source": [
    "features.head()"
   ]
  },
  {
   "cell_type": "markdown",
   "id": "2847f6d9",
   "metadata": {},
   "source": [
    "## Preprocess CPI Dataset"
   ]
  },
  {
   "cell_type": "markdown",
   "id": "4b0c5b52",
   "metadata": {},
   "source": [
    "Check if the dataset has any null or duplicate values."
   ]
  },
  {
   "cell_type": "code",
   "execution_count": 52,
   "id": "14dfeac6",
   "metadata": {
    "scrolled": false
   },
   "outputs": [
    {
     "name": "stdout",
     "output_type": "stream",
     "text": [
      "CPI Null Values\n",
      " DATE        0\n",
      "CPIAUCSL    0\n",
      "dtype: int64\n",
      "\n",
      "CPI Duplicate Values\n",
      " 0\n"
     ]
    }
   ],
   "source": [
    "print(\"CPI Null Values\\n\", cpi.isnull().sum())\n",
    "print(\"\\nCPI Duplicate Values\\n\", cpi.duplicated().sum())"
   ]
  },
  {
   "cell_type": "markdown",
   "id": "023e2d48",
   "metadata": {},
   "source": [
    "This dataset has no null or duplicate values."
   ]
  },
  {
   "cell_type": "markdown",
   "id": "a2764cba",
   "metadata": {},
   "source": [
    "Split \"DATE\" column into \"Year\", \"Month\", \"Day\" columns and cast these values into ints. Cast the cpi value to a float."
   ]
  },
  {
   "cell_type": "code",
   "execution_count": 27,
   "id": "12cc53e3",
   "metadata": {},
   "outputs": [
    {
     "data": {
      "text/html": [
       "<div>\n",
       "<style scoped>\n",
       "    .dataframe tbody tr th:only-of-type {\n",
       "        vertical-align: middle;\n",
       "    }\n",
       "\n",
       "    .dataframe tbody tr th {\n",
       "        vertical-align: top;\n",
       "    }\n",
       "\n",
       "    .dataframe thead th {\n",
       "        text-align: right;\n",
       "    }\n",
       "</style>\n",
       "<table border=\"1\" class=\"dataframe\">\n",
       "  <thead>\n",
       "    <tr style=\"text-align: right;\">\n",
       "      <th></th>\n",
       "      <th>CPI</th>\n",
       "      <th>Year</th>\n",
       "      <th>Month</th>\n",
       "      <th>Day</th>\n",
       "    </tr>\n",
       "  </thead>\n",
       "  <tbody>\n",
       "    <tr>\n",
       "      <th>0</th>\n",
       "      <td>21.48</td>\n",
       "      <td>1947</td>\n",
       "      <td>1</td>\n",
       "      <td>1</td>\n",
       "    </tr>\n",
       "    <tr>\n",
       "      <th>1</th>\n",
       "      <td>21.62</td>\n",
       "      <td>1947</td>\n",
       "      <td>2</td>\n",
       "      <td>1</td>\n",
       "    </tr>\n",
       "    <tr>\n",
       "      <th>2</th>\n",
       "      <td>22.00</td>\n",
       "      <td>1947</td>\n",
       "      <td>3</td>\n",
       "      <td>1</td>\n",
       "    </tr>\n",
       "    <tr>\n",
       "      <th>3</th>\n",
       "      <td>22.00</td>\n",
       "      <td>1947</td>\n",
       "      <td>4</td>\n",
       "      <td>1</td>\n",
       "    </tr>\n",
       "    <tr>\n",
       "      <th>4</th>\n",
       "      <td>21.95</td>\n",
       "      <td>1947</td>\n",
       "      <td>5</td>\n",
       "      <td>1</td>\n",
       "    </tr>\n",
       "  </tbody>\n",
       "</table>\n",
       "</div>"
      ],
      "text/plain": [
       "     CPI  Year  Month  Day\n",
       "0  21.48  1947      1    1\n",
       "1  21.62  1947      2    1\n",
       "2  22.00  1947      3    1\n",
       "3  22.00  1947      4    1\n",
       "4  21.95  1947      5    1"
      ]
     },
     "execution_count": 27,
     "metadata": {},
     "output_type": "execute_result"
    }
   ],
   "source": [
    "cpi[['Year', 'Month', 'Day']] = cpi['DATE'].str.split('-', expand=True)\n",
    "cpi.drop(['DATE'], axis=1, inplace=True)\n",
    "cpi[['Year', 'Month', 'Day']] = cpi[['Year', 'Month', 'Day']].astype(int)\n",
    "cpi['CPI'] = cpi['CPI'].astype(float)\n",
    "cpi.head()"
   ]
  },
  {
   "cell_type": "markdown",
   "id": "2cefecf4",
   "metadata": {},
   "source": [
    "## Preprocess Sales Dataset"
   ]
  },
  {
   "cell_type": "markdown",
   "id": "37f77d61",
   "metadata": {},
   "source": [
    "Check if the dataset has any null or duplicate values."
   ]
  },
  {
   "cell_type": "code",
   "execution_count": 28,
   "id": "979d6468",
   "metadata": {
    "scrolled": true
   },
   "outputs": [
    {
     "name": "stdout",
     "output_type": "stream",
     "text": [
      "Sales Null Values\n",
      " Car_id           0\n",
      "Date             0\n",
      "Customer Name    1\n",
      "Gender           0\n",
      "Annual Income    0\n",
      "Dealer_Name      0\n",
      "Company          0\n",
      "Model            0\n",
      "Engine           0\n",
      "Transmission     0\n",
      "Color            0\n",
      "Price ($)        0\n",
      "Dealer_No        0\n",
      "Body Style       0\n",
      "Phone            0\n",
      "Dealer_Region    0\n",
      "dtype: int64\n",
      "\n",
      "Sales Duplicate Values\n",
      " 0\n"
     ]
    }
   ],
   "source": [
    "print(\"Sales Null Values\\n\", sales.isnull().sum())\n",
    "print(\"\\nSales Duplicate Values\\n\", sales.duplicated().sum())"
   ]
  },
  {
   "cell_type": "markdown",
   "id": "3020b83b",
   "metadata": {},
   "source": [
    "Split 'Date' column into 'Year', 'Month', 'Day' columns and cast these values as well as 'Annual Income', 'Price', 'Phone' into ints. "
   ]
  },
  {
   "cell_type": "code",
   "execution_count": 53,
   "id": "e29c51f3",
   "metadata": {
    "scrolled": false
   },
   "outputs": [
    {
     "ename": "KeyError",
     "evalue": "'Date'",
     "output_type": "error",
     "traceback": [
      "\u001b[1;31m---------------------------------------------------------------------------\u001b[0m",
      "\u001b[1;31mKeyError\u001b[0m                                  Traceback (most recent call last)",
      "File \u001b[1;32m~\\AppData\\Local\\Packages\\PythonSoftwareFoundation.Python.3.11_qbz5n2kfra8p0\\LocalCache\\local-packages\\Python311\\site-packages\\pandas\\core\\indexes\\base.py:3805\u001b[0m, in \u001b[0;36mIndex.get_loc\u001b[1;34m(self, key)\u001b[0m\n\u001b[0;32m   3804\u001b[0m \u001b[38;5;28;01mtry\u001b[39;00m:\n\u001b[1;32m-> 3805\u001b[0m     \u001b[38;5;28;01mreturn\u001b[39;00m \u001b[38;5;28;43mself\u001b[39;49m\u001b[38;5;241;43m.\u001b[39;49m\u001b[43m_engine\u001b[49m\u001b[38;5;241;43m.\u001b[39;49m\u001b[43mget_loc\u001b[49m\u001b[43m(\u001b[49m\u001b[43mcasted_key\u001b[49m\u001b[43m)\u001b[49m\n\u001b[0;32m   3806\u001b[0m \u001b[38;5;28;01mexcept\u001b[39;00m \u001b[38;5;167;01mKeyError\u001b[39;00m \u001b[38;5;28;01mas\u001b[39;00m err:\n",
      "File \u001b[1;32mindex.pyx:167\u001b[0m, in \u001b[0;36mpandas._libs.index.IndexEngine.get_loc\u001b[1;34m()\u001b[0m\n",
      "File \u001b[1;32mindex.pyx:196\u001b[0m, in \u001b[0;36mpandas._libs.index.IndexEngine.get_loc\u001b[1;34m()\u001b[0m\n",
      "File \u001b[1;32mpandas\\\\_libs\\\\hashtable_class_helper.pxi:7081\u001b[0m, in \u001b[0;36mpandas._libs.hashtable.PyObjectHashTable.get_item\u001b[1;34m()\u001b[0m\n",
      "File \u001b[1;32mpandas\\\\_libs\\\\hashtable_class_helper.pxi:7089\u001b[0m, in \u001b[0;36mpandas._libs.hashtable.PyObjectHashTable.get_item\u001b[1;34m()\u001b[0m\n",
      "\u001b[1;31mKeyError\u001b[0m: 'Date'",
      "\nThe above exception was the direct cause of the following exception:\n",
      "\u001b[1;31mKeyError\u001b[0m                                  Traceback (most recent call last)",
      "Cell \u001b[1;32mIn[53], line 1\u001b[0m\n\u001b[1;32m----> 1\u001b[0m sales[[\u001b[38;5;124m'\u001b[39m\u001b[38;5;124mMonth\u001b[39m\u001b[38;5;124m'\u001b[39m, \u001b[38;5;124m'\u001b[39m\u001b[38;5;124mDay\u001b[39m\u001b[38;5;124m'\u001b[39m, \u001b[38;5;124m'\u001b[39m\u001b[38;5;124mYear\u001b[39m\u001b[38;5;124m'\u001b[39m]] \u001b[38;5;241m=\u001b[39m \u001b[43msales\u001b[49m\u001b[43m[\u001b[49m\u001b[38;5;124;43m'\u001b[39;49m\u001b[38;5;124;43mDate\u001b[39;49m\u001b[38;5;124;43m'\u001b[39;49m\u001b[43m]\u001b[49m\u001b[38;5;241m.\u001b[39mstr\u001b[38;5;241m.\u001b[39msplit(\u001b[38;5;124m'\u001b[39m\u001b[38;5;124m/\u001b[39m\u001b[38;5;124m'\u001b[39m, expand\u001b[38;5;241m=\u001b[39m\u001b[38;5;28;01mTrue\u001b[39;00m)\n\u001b[0;32m      2\u001b[0m sales\u001b[38;5;241m.\u001b[39mdrop([\u001b[38;5;124m'\u001b[39m\u001b[38;5;124mDate\u001b[39m\u001b[38;5;124m'\u001b[39m], axis\u001b[38;5;241m=\u001b[39m\u001b[38;5;241m1\u001b[39m, inplace\u001b[38;5;241m=\u001b[39m\u001b[38;5;28;01mTrue\u001b[39;00m)\n\u001b[0;32m      3\u001b[0m sales \u001b[38;5;241m=\u001b[39m sales\u001b[38;5;241m.\u001b[39mrename(columns\u001b[38;5;241m=\u001b[39m{\u001b[38;5;124m'\u001b[39m\u001b[38;5;124mPrice ($)\u001b[39m\u001b[38;5;124m'\u001b[39m: \u001b[38;5;124m'\u001b[39m\u001b[38;5;124mPrice\u001b[39m\u001b[38;5;124m'\u001b[39m})\n",
      "File \u001b[1;32m~\\AppData\\Local\\Packages\\PythonSoftwareFoundation.Python.3.11_qbz5n2kfra8p0\\LocalCache\\local-packages\\Python311\\site-packages\\pandas\\core\\frame.py:4090\u001b[0m, in \u001b[0;36mDataFrame.__getitem__\u001b[1;34m(self, key)\u001b[0m\n\u001b[0;32m   4088\u001b[0m \u001b[38;5;28;01mif\u001b[39;00m \u001b[38;5;28mself\u001b[39m\u001b[38;5;241m.\u001b[39mcolumns\u001b[38;5;241m.\u001b[39mnlevels \u001b[38;5;241m>\u001b[39m \u001b[38;5;241m1\u001b[39m:\n\u001b[0;32m   4089\u001b[0m     \u001b[38;5;28;01mreturn\u001b[39;00m \u001b[38;5;28mself\u001b[39m\u001b[38;5;241m.\u001b[39m_getitem_multilevel(key)\n\u001b[1;32m-> 4090\u001b[0m indexer \u001b[38;5;241m=\u001b[39m \u001b[38;5;28;43mself\u001b[39;49m\u001b[38;5;241;43m.\u001b[39;49m\u001b[43mcolumns\u001b[49m\u001b[38;5;241;43m.\u001b[39;49m\u001b[43mget_loc\u001b[49m\u001b[43m(\u001b[49m\u001b[43mkey\u001b[49m\u001b[43m)\u001b[49m\n\u001b[0;32m   4091\u001b[0m \u001b[38;5;28;01mif\u001b[39;00m is_integer(indexer):\n\u001b[0;32m   4092\u001b[0m     indexer \u001b[38;5;241m=\u001b[39m [indexer]\n",
      "File \u001b[1;32m~\\AppData\\Local\\Packages\\PythonSoftwareFoundation.Python.3.11_qbz5n2kfra8p0\\LocalCache\\local-packages\\Python311\\site-packages\\pandas\\core\\indexes\\base.py:3812\u001b[0m, in \u001b[0;36mIndex.get_loc\u001b[1;34m(self, key)\u001b[0m\n\u001b[0;32m   3807\u001b[0m     \u001b[38;5;28;01mif\u001b[39;00m \u001b[38;5;28misinstance\u001b[39m(casted_key, \u001b[38;5;28mslice\u001b[39m) \u001b[38;5;129;01mor\u001b[39;00m (\n\u001b[0;32m   3808\u001b[0m         \u001b[38;5;28misinstance\u001b[39m(casted_key, abc\u001b[38;5;241m.\u001b[39mIterable)\n\u001b[0;32m   3809\u001b[0m         \u001b[38;5;129;01mand\u001b[39;00m \u001b[38;5;28many\u001b[39m(\u001b[38;5;28misinstance\u001b[39m(x, \u001b[38;5;28mslice\u001b[39m) \u001b[38;5;28;01mfor\u001b[39;00m x \u001b[38;5;129;01min\u001b[39;00m casted_key)\n\u001b[0;32m   3810\u001b[0m     ):\n\u001b[0;32m   3811\u001b[0m         \u001b[38;5;28;01mraise\u001b[39;00m InvalidIndexError(key)\n\u001b[1;32m-> 3812\u001b[0m     \u001b[38;5;28;01mraise\u001b[39;00m \u001b[38;5;167;01mKeyError\u001b[39;00m(key) \u001b[38;5;28;01mfrom\u001b[39;00m \u001b[38;5;21;01merr\u001b[39;00m\n\u001b[0;32m   3813\u001b[0m \u001b[38;5;28;01mexcept\u001b[39;00m \u001b[38;5;167;01mTypeError\u001b[39;00m:\n\u001b[0;32m   3814\u001b[0m     \u001b[38;5;66;03m# If we have a listlike key, _check_indexing_error will raise\u001b[39;00m\n\u001b[0;32m   3815\u001b[0m     \u001b[38;5;66;03m#  InvalidIndexError. Otherwise we fall through and re-raise\u001b[39;00m\n\u001b[0;32m   3816\u001b[0m     \u001b[38;5;66;03m#  the TypeError.\u001b[39;00m\n\u001b[0;32m   3817\u001b[0m     \u001b[38;5;28mself\u001b[39m\u001b[38;5;241m.\u001b[39m_check_indexing_error(key)\n",
      "\u001b[1;31mKeyError\u001b[0m: 'Date'"
     ]
    }
   ],
   "source": [
    "sales[['Month', 'Day', 'Year']] = sales['Date'].str.split('/', expand=True)\n",
    "sales.drop(['Date'], axis=1, inplace=True)\n",
    "sales = sales.rename(columns={'Price ($)': 'Price'})\n",
    "sales[['Year', 'Month', 'Day', 'Annual Income', 'Price', 'Phone']] = sales[['Year', 'Month', 'Day', 'Annual Income', 'Price', 'Phone']].astype(int)\n",
    "sales.head()"
   ]
  },
  {
   "cell_type": "code",
   "execution_count": 58,
   "id": "4779e9ac",
   "metadata": {},
   "outputs": [
    {
     "data": {
      "text/plain": [
       "array(['DoubleÂ\\xa0Overhead Camshaft', 'Overhead Camshaft'], dtype=object)"
      ]
     },
     "execution_count": 58,
     "metadata": {},
     "output_type": "execute_result"
    }
   ],
   "source": [
    "sales['Engine'].unique()"
   ]
  },
  {
   "cell_type": "markdown",
   "id": "87ed5b27",
   "metadata": {},
   "source": [
    "Replace typo with correct spelling of term."
   ]
  },
  {
   "cell_type": "code",
   "execution_count": 60,
   "id": "3beb386f",
   "metadata": {},
   "outputs": [
    {
     "data": {
      "text/plain": [
       "array(['Double Overhead Camshaft', 'Overhead Camshaft'], dtype=object)"
      ]
     },
     "execution_count": 60,
     "metadata": {},
     "output_type": "execute_result"
    }
   ],
   "source": [
    "sales.replace('DoubleÂ\\xa0Overhead Camshaft', 'Double Overhead Camshaft', inplace=True)\n",
    "sales['Engine'].unique()"
   ]
  },
  {
   "cell_type": "code",
   "execution_count": null,
   "id": "c9ef9189",
   "metadata": {},
   "outputs": [],
   "source": []
  }
 ],
 "metadata": {
  "kernelspec": {
   "display_name": "Python 3 (ipykernel)",
   "language": "python",
   "name": "python3"
  },
  "language_info": {
   "codemirror_mode": {
    "name": "ipython",
    "version": 3
   },
   "file_extension": ".py",
   "mimetype": "text/x-python",
   "name": "python",
   "nbconvert_exporter": "python",
   "pygments_lexer": "ipython3",
   "version": "3.11.8"
  }
 },
 "nbformat": 4,
 "nbformat_minor": 5
}

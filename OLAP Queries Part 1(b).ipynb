{
 "cells": [
  {
   "cell_type": "markdown",
   "metadata": {},
   "source": [
    "### Part 2 Explorative operation"
   ]
  },
  {
   "cell_type": "code",
   "execution_count": null,
   "metadata": {},
   "outputs": [],
   "source": [
    "a. Iceberg Queries\n",
    "This query groups the sales by car make and filters for those makes with more than 10 sales.\n",
    "Query : 'SELECT c.model, SUM(cs.price) AS TotalSales FROM car_sales cs JOIN car c ON cs.car_id = c.id GROUP BY c.model ORDER BY TotalSales DESC LIMIT (SELECT CAST(COUNT(DISTINCT model) * 0.1 AS INTEGER) FROM car);'"
   ]
  },
  {
   "cell_type": "code",
   "execution_count": null,
   "metadata": {},
   "outputs": [],
   "source": [
    "b. Window Queries\n",
    "This query ranks car makes based on the total number of sales.\n",
    "Query: 'SELECT c.company, COUNT(cs.id) AS NumberOfSales, RANK() OVER (ORDER BY COUNT(cs.id) DESC) AS Rank FROM car_sales cs JOIN car c ON cs.car_id = c.id GROUP BY c.company;'"
   ]
  },
  {
   "cell_type": "code",
   "execution_count": null,
   "metadata": {},
   "outputs": [],
   "source": [
    "c. Using the Window Clause\n",
    "This query provides a running total of sales prices ordered by date\n",
    "Query: 'SELECT cs.date, cs.price, SUM(cs.price) OVER (ORDER BY cs.date) AS RunningTotal FROM car_sales cs ORDER BY cs.date;'"
   ]
  }
 ],
 "metadata": {
  "kernelspec": {
   "display_name": "Python 3 (ipykernel)",
   "language": "python",
   "name": "python3"
  },
  "language_info": {
   "codemirror_mode": {
    "name": "ipython",
    "version": 3
   },
   "file_extension": ".py",
   "mimetype": "text/x-python",
   "name": "python",
   "nbconvert_exporter": "python",
   "pygments_lexer": "ipython3",
   "version": "3.11.9"
  }
 },
 "nbformat": 4,
 "nbformat_minor": 2
}

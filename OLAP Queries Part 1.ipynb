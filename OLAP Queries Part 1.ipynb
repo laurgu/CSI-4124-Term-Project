{
 "cells": [
  {
   "cell_type": "code",
   "execution_count": 2,
   "metadata": {},
   "outputs": [
    {
     "name": "stdout",
     "output_type": "stream",
     "text": [
      "Connected\n"
     ]
    }
   ],
   "source": [
    "# Create connection\n",
    "import mysql.connector\n",
    "\n",
    "connection = mysql.connector.connect(\n",
    "    user='root',\n",
    "    password='password',\n",
    "    host='localhost',\n",
    "    database='db'\n",
    ")\n",
    "\n",
    "# Make sure connection established\n",
    "if connection.is_connected():\n",
    "    print(\"Connected\")\n",
    "else:\n",
    "    print(\"Failed to connect\")"
   ]
  },
  {
   "cell_type": "markdown",
   "metadata": {},
   "source": [
    "## Queries"
   ]
  },
  {
   "cell_type": "markdown",
   "metadata": {},
   "source": [
    "#### Roll-Up/Drill Down"
   ]
  },
  {
   "cell_type": "markdown",
   "metadata": {},
   "source": [
    "Roll up car sales by car make and model."
   ]
  },
  {
   "cell_type": "code",
   "execution_count": null,
   "metadata": {},
   "outputs": [],
   "source": [
    "query = 'SELECT c.company, c.model, SUM(cs.price) AS TotalSales FROM car c JOIN car_sales cs ON c.id = cs.car GROUP BY c.company, c.model;'"
   ]
  },
  {
   "cell_type": "markdown",
   "metadata": {},
   "source": [
    "Roll up car sales by year and fiscal quarter."
   ]
  },
  {
   "cell_type": "code",
   "execution_count": null,
   "metadata": {},
   "outputs": [],
   "source": [
    "query = 'SELECT d.year, d.fiscal_quarter, SUM(cs.price) AS total_price FROM car_sales cs JOIN date d ON cs.date = d.id GROUP BY d.year, d.fiscal_quarter;'"
   ]
  },
  {
   "cell_type": "markdown",
   "metadata": {},
   "source": [
    "#### Dice"
   ]
  },
  {
   "cell_type": "markdown",
   "metadata": {},
   "source": [
    "Select car sales where the sale was made when the CPI was greater than 150."
   ]
  },
  {
   "cell_type": "code",
   "execution_count": null,
   "metadata": {},
   "outputs": [],
   "source": [
    "query = 'SELECT cs.*FROM car_sales cs JOIN date d ON cs.date = d.id JOIN cpi c ON d.id = c.date WHERE c.cpi_value > 120;'"
   ]
  },
  {
   "cell_type": "markdown",
   "metadata": {},
   "source": [
    "Select the engine fuel type of cars and the annual income of the customers who purchased the cars."
   ]
  },
  {
   "cell_type": "code",
   "execution_count": null,
   "metadata": {},
   "outputs": [],
   "source": [
    "query = 'SELECT cst.annual_income, cr.engine_fuel_type FROM customer cst JOIN car_sales cs ON cst.id = cs.customer JOIN car cr ON cs.car = cr.id;'\n"
   ]
  },
  {
   "cell_type": "markdown",
   "metadata": {},
   "source": [
    "## Combining OLAP Operations"
   ]
  },
  {
   "cell_type": "code",
   "execution_count": null,
   "metadata": {},
   "outputs": [],
   "source": []
  }
 ],
 "metadata": {
  "kernelspec": {
   "display_name": "Python 3",
   "language": "python",
   "name": "python3"
  },
  "language_info": {
   "codemirror_mode": {
    "name": "ipython",
    "version": 3
   },
   "file_extension": ".py",
   "mimetype": "text/x-python",
   "name": "python",
   "nbconvert_exporter": "python",
   "pygments_lexer": "ipython3",
   "version": "3.10.7"
  }
 },
 "nbformat": 4,
 "nbformat_minor": 2
}

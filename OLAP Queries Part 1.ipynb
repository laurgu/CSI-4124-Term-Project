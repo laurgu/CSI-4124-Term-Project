{
 "cells": [
  {
   "cell_type": "code",
   "execution_count": 18,
   "metadata": {},
   "outputs": [
    {
     "name": "stdout",
     "output_type": "stream",
     "text": [
      "Connected\n"
     ]
    }
   ],
   "source": [
    "# Create connection\n",
    "import mysql.connector\n",
    "\n",
    "connection = mysql.connector.connect(\n",
    "    user='root',\n",
    "    password='password',\n",
    "    host='localhost',\n",
    "    database='db'\n",
    ")\n",
    "\n",
    "# Make sure connection established\n",
    "if connection.is_connected():\n",
    "    print(\"Connected\")\n",
    "else:\n",
    "    print(\"Failed to connect\")"
   ]
  },
  {
   "cell_type": "markdown",
   "metadata": {},
   "source": [
    "## Queries"
   ]
  },
  {
   "cell_type": "markdown",
   "metadata": {},
   "source": [
    "#### Roll-Up/Drill Down"
   ]
  },
  {
   "cell_type": "markdown",
   "metadata": {},
   "source": [
    "Roll up car sales by car make and model."
   ]
  },
  {
   "cell_type": "code",
   "execution_count": 19,
   "metadata": {},
   "outputs": [],
   "source": [
    "cursor = connection.cursor()"
   ]
  },
  {
   "cell_type": "code",
   "execution_count": 20,
   "metadata": {},
   "outputs": [
    {
     "data": {
      "text/plain": [
       "[('ford', 'expedition', Decimal('4838250')),\n",
       " ('dodge', 'durango', Decimal('5878455')),\n",
       " ('cadillac', 'eldorado', Decimal('9725407')),\n",
       " ('toyota', 'celica', Decimal('4584448')),\n",
       " ('acura', 'tl', Decimal('6139019')),\n",
       " ('mitsubishi', 'diamante', Decimal('9308151')),\n",
       " ('toyota', 'corolla', Decimal('2878632')),\n",
       " ('mitsubishi', 'galant', Decimal('3255171')),\n",
       " ('chevrolet', 'malibu', Decimal('8885102')),\n",
       " ('ford', 'escort', Decimal('980483')),\n",
       " ('acura', 'rl', Decimal('8778638')),\n",
       " ('nissan', 'pathfinder', Decimal('8792523')),\n",
       " ('subaru', 'forester', Decimal('5738743')),\n",
       " ('hyundai', 'accent', Decimal('634518')),\n",
       " ('toyota', 'landcruiser', Decimal('2349022')),\n",
       " ('honda', 'accord', Decimal('6597822')),\n",
       " ('toyota', '4runner', Decimal('1695515')),\n",
       " ('infiniti', 'i30', Decimal('5717040')),\n",
       " ('audi', 'a4', Decimal('2009977')),\n",
       " ('volkswagen', 'jetta', Decimal('12287736')),\n",
       " ('dodge', 'viper', Decimal('7417262')),\n",
       " ('buick', 'regal', Decimal('4760614')),\n",
       " ('chrysler', 'lhs', Decimal('9097717')),\n",
       " ('mitsubishi', '3000gt', Decimal('6751522')),\n",
       " ('honda', 'civic', Decimal('4341362')),\n",
       " ('volvo', 's40', Decimal('7783634')),\n",
       " ('buick', 'parkavenue', Decimal('8432401')),\n",
       " ('mitsubishi', 'monterosport', Decimal('11472231')),\n",
       " ('nissan', 'sentra', Decimal('724411')),\n",
       " ('volvo', 's80', Decimal('1964670')),\n",
       " ('chevrolet', 'lumina', Decimal('4062910')),\n",
       " ('pontiac', 'bonneville', Decimal('3878252')),\n",
       " ('nissan', 'altima', Decimal('1731472')),\n",
       " ('cadillac', 'deville', Decimal('3692324')),\n",
       " ('dodge', 'stratus', Decimal('2773322')),\n",
       " ('volvo', 'c70', Decimal('6508860')),\n",
       " ('toyota', 'tacoma', Decimal('7979237')),\n",
       " ('audi', 'a6', Decimal('7456122')),\n",
       " ('dodge', 'intrepid', Decimal('1403171')),\n",
       " ('toyota', 'sienna', Decimal('3092637')),\n",
       " ('mitsubishi', 'eclipse', Decimal('2157122')),\n",
       " ('ford', 'contour', Decimal('5119926')),\n",
       " ('lincoln', 'towncar', Decimal('3651507')),\n",
       " ('ford', 'focus', Decimal('4787388')),\n",
       " ('ford', 'mustang', Decimal('4973489')),\n",
       " ('oldsmobile', 'cutlass', Decimal('7006512')),\n",
       " ('chevrolet', 'corvette', Decimal('7921472')),\n",
       " ('chevrolet', 'impala', Decimal('1512371')),\n",
       " ('volkswagen', 'cabrio', Decimal('2729737')),\n",
       " ('dodge', 'dakota', Decimal('1191416')),\n",
       " ('chrysler', '300m', Decimal('5198958')),\n",
       " ('oldsmobile', 'bravada', Decimal('4815336')),\n",
       " ('nissan', 'maxima', Decimal('3429979')),\n",
       " ('chrysler', 'concorde', Decimal('7152658')),\n",
       " ('volvo', 'v70', Decimal('1601112')),\n",
       " ('nissan', 'quest', Decimal('2262870')),\n",
       " ('lexus', 'es300', Decimal('2562876')),\n",
       " ('ford', 'explorer', Decimal('7205471')),\n",
       " ('chevrolet', 'prizm', Decimal('9386606')),\n",
       " ('chevrolet', 'camaro', Decimal('3210281')),\n",
       " ('subaru', 'outback', Decimal('5573450')),\n",
       " ('ford', 'taurus', Decimal('7040486')),\n",
       " ('chevrolet', 'cavalier', Decimal('3437727')),\n",
       " ('lexus', 'gs400', Decimal('4105044')),\n",
       " ('chevrolet', 'montecarlo', Decimal('3892839')),\n",
       " ('hyundai', 'sonata', Decimal('2968834')),\n",
       " ('chevrolet', 'metro', Decimal('5345957')),\n",
       " ('plymouth', 'voyager', Decimal('5699891')),\n",
       " ('chrysler', 'cirrus', Decimal('470908')),\n",
       " ('dodge', 'avenger', Decimal('2912975')),\n",
       " ('honda', 'odyssey', Decimal('2380320')),\n",
       " ('oldsmobile', 'intrigue', Decimal('5590150')),\n",
       " ('oldsmobile', 'silhouette', Decimal('12271849')),\n",
       " ('lexus', 'ls400', Decimal('14263424')),\n",
       " ('oldsmobile', 'aurora', Decimal('5443363')),\n",
       " ('plymouth', 'breeze', Decimal('2790178')),\n",
       " ('volkswagen', 'beetle', Decimal('4401880')),\n",
       " ('hyundai', 'elantra', Decimal('1514614')),\n",
       " ('lincoln', 'continental', Decimal('8778073')),\n",
       " ('toyota', 'rav4', Decimal('5022338')),\n",
       " ('volvo', 's70', Decimal('3669918')),\n",
       " ('dodge', 'ramvan', Decimal('5763440')),\n",
       " ('pontiac', 'grandam', Decimal('3463286')),\n",
       " ('volkswagen', 'passat', Decimal('7663885')),\n",
       " ('nissan', 'xterra', Decimal('1738899')),\n",
       " ('nissan', 'frontier', Decimal('5283941')),\n",
       " ('ford', 'crownvictoria', Decimal('3642165')),\n",
       " ('toyota', 'camry', Decimal('4887733')),\n",
       " ('lincoln', 'navigator', Decimal('3022682')),\n",
       " ('cadillac', 'escalade', Decimal('5158921')),\n",
       " ('volkswagen', 'golf', Decimal('2979629')),\n",
       " ('ford', 'ranger', Decimal('3784528')),\n",
       " ('plymouth', 'prowler', Decimal('5429205')),\n",
       " ('ford', 'windstar', Decimal('2865624')),\n",
       " ('volkswagen', 'gti', Decimal('4020014')),\n",
       " ('honda', 'passport', Decimal('2974523')),\n",
       " ('lexus', 'lx470', Decimal('3950222')),\n",
       " ('honda', 'cr-v', Decimal('3588708')),\n",
       " ('pontiac', 'sunfire', Decimal('7962118')),\n",
       " ('dodge', 'caravan', Decimal('3491482')),\n",
       " ('dodge', 'ramwagon', Decimal('2198978')),\n",
       " ('plymouth', 'neon', Decimal('4223599')),\n",
       " ('acura', 'integra', Decimal('2140992')),\n",
       " ('pontiac', 'grandprix', Decimal('5652738')),\n",
       " ('audi', 'a8', Decimal('1228539')),\n",
       " ('cadillac', 'catera', Decimal('5115324')),\n",
       " ('cadillac', 'seville', Decimal('3021829')),\n",
       " ('buick', 'lesabre', Decimal('822207')),\n",
       " ('lexus', 'gs300', Decimal('2135835')),\n",
       " ('pontiac', 'firebird', Decimal('2412813')),\n",
       " ('volvo', 'v40', Decimal('397006')),\n",
       " ('mitsubishi', 'montero', Decimal('946065')),\n",
       " ('oldsmobile', 'alero', Decimal('307302')),\n",
       " ('mitsubishi', 'mirage', Decimal('172204')),\n",
       " ('buick', 'century', Decimal('750263')),\n",
       " ('dodge', 'neon', Decimal('439104')),\n",
       " ('lexus', 'rx300', Decimal('270302')),\n",
       " ('toyota', 'avalon', Decimal('270002'))]"
      ]
     },
     "execution_count": 20,
     "metadata": {},
     "output_type": "execute_result"
    }
   ],
   "source": [
    "query = 'SELECT c.company, c.model, SUM(cs.price) AS TotalSales FROM car c JOIN car_sales cs ON c.id = cs.car GROUP BY c.company, c.model;'\n",
    "cursor.execute(query)\n",
    "cursor.fetchall()"
   ]
  },
  {
   "cell_type": "markdown",
   "metadata": {},
   "source": [
    "Roll up car sales by year and fiscal quarter."
   ]
  },
  {
   "cell_type": "code",
   "execution_count": 21,
   "metadata": {},
   "outputs": [
    {
     "data": {
      "text/plain": [
       "[]"
      ]
     },
     "execution_count": 21,
     "metadata": {},
     "output_type": "execute_result"
    }
   ],
   "source": [
    "query = 'CREATE VIEW salesbyfuelincome AS SELECT d.year, d.fiscal_quarter, SUM(cs.price) AS total_price FROM car_sales cs JOIN date d ON cs.date = d.id GROUP BY d.year, d.fiscal_quarter;'\n",
    "cursor.execute(query)\n",
    "cursor.fetchall()"
   ]
  },
  {
   "cell_type": "markdown",
   "metadata": {},
   "source": [
    "#### Slice"
   ]
  },
  {
   "cell_type": "markdown",
   "metadata": {},
   "source": [
    "Select sales where the CPI value is greater than 120."
   ]
  },
  {
   "cell_type": "code",
   "execution_count": 22,
   "metadata": {},
   "outputs": [
    {
     "ename": "ProgrammingError",
     "evalue": "1050 (42S01): Table 'salescpi120' already exists",
     "output_type": "error",
     "traceback": [
      "\u001b[1;31m---------------------------------------------------------------------------\u001b[0m",
      "\u001b[1;31mProgrammingError\u001b[0m                          Traceback (most recent call last)",
      "Cell \u001b[1;32mIn[22], line 2\u001b[0m\n\u001b[0;32m      1\u001b[0m query \u001b[38;5;241m=\u001b[39m \u001b[38;5;124m'\u001b[39m\u001b[38;5;124mCREATE VIEW salescpi120 AS SELECT cs.*FROM car_sales cs JOIN date d ON cs.date = d.id JOIN cpi c ON d.id = c.date WHERE c.cpi_value > 120;\u001b[39m\u001b[38;5;124m'\u001b[39m\n\u001b[1;32m----> 2\u001b[0m \u001b[43mcursor\u001b[49m\u001b[38;5;241;43m.\u001b[39;49m\u001b[43mexecute\u001b[49m\u001b[43m(\u001b[49m\u001b[43mquery\u001b[49m\u001b[43m)\u001b[49m\n\u001b[0;32m      3\u001b[0m cursor\u001b[38;5;241m.\u001b[39mfetchall()\n",
      "File \u001b[1;32m~\\AppData\\Local\\Packages\\PythonSoftwareFoundation.Python.3.11_qbz5n2kfra8p0\\LocalCache\\local-packages\\Python311\\site-packages\\mysql\\connector\\cursor.py:748\u001b[0m, in \u001b[0;36mMySQLCursor.execute\u001b[1;34m(self, operation, params, multi)\u001b[0m\n\u001b[0;32m    745\u001b[0m     \u001b[38;5;28;01mreturn\u001b[39;00m \u001b[38;5;28mself\u001b[39m\u001b[38;5;241m.\u001b[39m_execute_iter(\u001b[38;5;28mself\u001b[39m\u001b[38;5;241m.\u001b[39m_connection\u001b[38;5;241m.\u001b[39mcmd_query_iter(stmt))\n\u001b[0;32m    747\u001b[0m \u001b[38;5;28;01mtry\u001b[39;00m:\n\u001b[1;32m--> 748\u001b[0m     \u001b[38;5;28mself\u001b[39m\u001b[38;5;241m.\u001b[39m_handle_result(\u001b[38;5;28;43mself\u001b[39;49m\u001b[38;5;241;43m.\u001b[39;49m\u001b[43m_connection\u001b[49m\u001b[38;5;241;43m.\u001b[39;49m\u001b[43mcmd_query\u001b[49m\u001b[43m(\u001b[49m\u001b[43mstmt\u001b[49m\u001b[43m)\u001b[49m)\n\u001b[0;32m    749\u001b[0m \u001b[38;5;28;01mexcept\u001b[39;00m InterfaceError \u001b[38;5;28;01mas\u001b[39;00m err:\n\u001b[0;32m    750\u001b[0m     \u001b[38;5;28;01mif\u001b[39;00m \u001b[38;5;28mself\u001b[39m\u001b[38;5;241m.\u001b[39m_connection\u001b[38;5;241m.\u001b[39mhave_next_result:\n",
      "File \u001b[1;32m~\\AppData\\Local\\Packages\\PythonSoftwareFoundation.Python.3.11_qbz5n2kfra8p0\\LocalCache\\local-packages\\Python311\\site-packages\\mysql\\connector\\opentelemetry\\context_propagation.py:74\u001b[0m, in \u001b[0;36mwith_context_propagation.<locals>.wrapper\u001b[1;34m(cnx, *args, **kwargs)\u001b[0m\n\u001b[0;32m     72\u001b[0m \u001b[38;5;250m\u001b[39m\u001b[38;5;124;03m\"\"\"Context propagation decorator.\"\"\"\u001b[39;00m\n\u001b[0;32m     73\u001b[0m \u001b[38;5;28;01mif\u001b[39;00m \u001b[38;5;129;01mnot\u001b[39;00m OTEL_ENABLED \u001b[38;5;129;01mor\u001b[39;00m \u001b[38;5;129;01mnot\u001b[39;00m cnx\u001b[38;5;241m.\u001b[39motel_context_propagation:\n\u001b[1;32m---> 74\u001b[0m     \u001b[38;5;28;01mreturn\u001b[39;00m \u001b[43mmethod\u001b[49m\u001b[43m(\u001b[49m\u001b[43mcnx\u001b[49m\u001b[43m,\u001b[49m\u001b[43m \u001b[49m\u001b[38;5;241;43m*\u001b[39;49m\u001b[43margs\u001b[49m\u001b[43m,\u001b[49m\u001b[43m \u001b[49m\u001b[38;5;241;43m*\u001b[39;49m\u001b[38;5;241;43m*\u001b[39;49m\u001b[43mkwargs\u001b[49m\u001b[43m)\u001b[49m\n\u001b[0;32m     76\u001b[0m current_span \u001b[38;5;241m=\u001b[39m trace\u001b[38;5;241m.\u001b[39mget_current_span()\n\u001b[0;32m     77\u001b[0m tp_header \u001b[38;5;241m=\u001b[39m \u001b[38;5;28;01mNone\u001b[39;00m\n",
      "File \u001b[1;32m~\\AppData\\Local\\Packages\\PythonSoftwareFoundation.Python.3.11_qbz5n2kfra8p0\\LocalCache\\local-packages\\Python311\\site-packages\\mysql\\connector\\connection.py:855\u001b[0m, in \u001b[0;36mMySQLConnection.cmd_query\u001b[1;34m(self, query, raw, buffered, raw_as_string)\u001b[0m\n\u001b[0;32m    853\u001b[0m query \u001b[38;5;241m=\u001b[39m \u001b[38;5;28mbytes\u001b[39m(packet)\n\u001b[0;32m    854\u001b[0m \u001b[38;5;28;01mtry\u001b[39;00m:\n\u001b[1;32m--> 855\u001b[0m     result \u001b[38;5;241m=\u001b[39m \u001b[38;5;28;43mself\u001b[39;49m\u001b[38;5;241;43m.\u001b[39;49m\u001b[43m_handle_result\u001b[49m\u001b[43m(\u001b[49m\u001b[38;5;28;43mself\u001b[39;49m\u001b[38;5;241;43m.\u001b[39;49m\u001b[43m_send_cmd\u001b[49m\u001b[43m(\u001b[49m\u001b[43mServerCmd\u001b[49m\u001b[38;5;241;43m.\u001b[39;49m\u001b[43mQUERY\u001b[49m\u001b[43m,\u001b[49m\u001b[43m \u001b[49m\u001b[43mquery\u001b[49m\u001b[43m)\u001b[49m\u001b[43m)\u001b[49m\n\u001b[0;32m    856\u001b[0m \u001b[38;5;28;01mexcept\u001b[39;00m ProgrammingError \u001b[38;5;28;01mas\u001b[39;00m err:\n\u001b[0;32m    857\u001b[0m     \u001b[38;5;28;01mif\u001b[39;00m err\u001b[38;5;241m.\u001b[39merrno \u001b[38;5;241m==\u001b[39m \u001b[38;5;241m3948\u001b[39m \u001b[38;5;129;01mand\u001b[39;00m \u001b[38;5;124m\"\u001b[39m\u001b[38;5;124mLoading local data is disabled\u001b[39m\u001b[38;5;124m\"\u001b[39m \u001b[38;5;129;01min\u001b[39;00m err\u001b[38;5;241m.\u001b[39mmsg:\n",
      "File \u001b[1;32m~\\AppData\\Local\\Packages\\PythonSoftwareFoundation.Python.3.11_qbz5n2kfra8p0\\LocalCache\\local-packages\\Python311\\site-packages\\mysql\\connector\\connection.py:631\u001b[0m, in \u001b[0;36mMySQLConnection._handle_result\u001b[1;34m(self, packet)\u001b[0m\n\u001b[0;32m    629\u001b[0m     \u001b[38;5;28;01mreturn\u001b[39;00m \u001b[38;5;28mself\u001b[39m\u001b[38;5;241m.\u001b[39m_handle_eof(packet)\n\u001b[0;32m    630\u001b[0m \u001b[38;5;28;01mif\u001b[39;00m packet[\u001b[38;5;241m4\u001b[39m] \u001b[38;5;241m==\u001b[39m \u001b[38;5;241m255\u001b[39m:\n\u001b[1;32m--> 631\u001b[0m     \u001b[38;5;28;01mraise\u001b[39;00m get_exception(packet)\n\u001b[0;32m    633\u001b[0m \u001b[38;5;66;03m# We have a text result set\u001b[39;00m\n\u001b[0;32m    634\u001b[0m column_count \u001b[38;5;241m=\u001b[39m \u001b[38;5;28mself\u001b[39m\u001b[38;5;241m.\u001b[39m_protocol\u001b[38;5;241m.\u001b[39mparse_column_count(packet)\n",
      "\u001b[1;31mProgrammingError\u001b[0m: 1050 (42S01): Table 'salescpi120' already exists"
     ]
    }
   ],
   "source": [
    "query = 'CREATE VIEW salescpi120 AS SELECT cs.*FROM car_sales cs JOIN date d ON cs.date = d.id JOIN cpi c ON d.id = c.date WHERE c.cpi_value > 120;'\n",
    "cursor.execute(query)\n",
    "cursor.fetchall()"
   ]
  },
  {
   "cell_type": "markdown",
   "metadata": {},
   "source": [
    "#### Dice"
   ]
  },
  {
   "cell_type": "markdown",
   "metadata": {},
   "source": [
    "Select sales where the city miles per gallon of the car purchased is less than 19 and the income of the customer is less than 60000"
   ]
  },
  {
   "cell_type": "code",
   "execution_count": 34,
   "metadata": {},
   "outputs": [],
   "source": [
    "cursor.fetchall()\n",
    "query = '''CREATE VIEW SalesbyMpgIncome AS\n",
    "SELECT cs.*\n",
    "FROM car_sales cs\n",
    "JOIN car c ON cs.car = c.id\n",
    "JOIN customer cu ON cs.customer = cu.id\n",
    "WHERE c.city_mpg < 19 AND cu.annual_income < 60000;\n",
    "'''\n",
    "cursor.execute(query)"
   ]
  },
  {
   "cell_type": "markdown",
   "metadata": {},
   "source": [
    "Select sales where the engine fuel type is \"regualar unleaded\" and customer annual income is > 82000"
   ]
  },
  {
   "cell_type": "code",
   "execution_count": 28,
   "metadata": {},
   "outputs": [],
   "source": [
    "query = '''\n",
    "CREATE VIEW salesbyfuelincome AS\n",
    "SELECT cs.*\n",
    "FROM car_sales cs\n",
    "JOIN car c ON cs.car = c.id\n",
    "JOIN customer cu ON cs.customer = cu.id\n",
    "WHERE c.engine_fuel_type = 'regular unleaded' AND cu.annual_income > 82000;\n",
    "'''\n",
    "cursor.execute(query)"
   ]
  },
  {
   "cell_type": "markdown",
   "metadata": {},
   "source": [
    "## Combining OLAP Operations"
   ]
  },
  {
   "cell_type": "markdown",
   "metadata": {},
   "source": [
    "### Slice + Dice + Roll Up"
   ]
  },
  {
   "cell_type": "code",
   "execution_count": null,
   "metadata": {},
   "outputs": [],
   "source": [
    "# Within the past 3 months for Toyota models grouped by month and year\n",
    "query = \"SELECT d.month, d.year, c.company, c.model, SUM(cs.price) AS TotalSales FROM car c JOIN car_sales cs ON c.id = cs.car JOIN date d ON cs.date = d.id WHERE (d.year = 2023 AND d.month >= 10 AND d.month <= 12 AND d.day <= 31) AND c.company = 'Toyota' GROUP BY d.year, d.month, c.model;\"\n",
    "\n",
    "# Within the past year for Toyota models grouped by month and year\n",
    "query = \"SELECT d.month, d.year, c.company, c.model, SUM(cs.price) AS TotalSales FROM car c JOIN car_sales cs ON c.id = cs.car JOIN date d ON cs.date = d.id WHERE d.year = 2023 AND c.company = 'Toyota' GROUP BY d.year, d.month, c.model;\"\n"
   ]
  },
  {
   "cell_type": "markdown",
   "metadata": {},
   "source": [
    "### Slice + Dice"
   ]
  },
  {
   "cell_type": "code",
   "execution_count": null,
   "metadata": {},
   "outputs": [],
   "source": [
    "# Female\n",
    "query = \"SELECT cst.annual_income, cr.engine_fuel_type FROM customer cst JOIN car_sales cs ON cst.id = cs.customer JOIN car cr ON cs.car = cr.id WHERE cst.gender = 'Female';\"\n",
    "\n",
    "# Male\n",
    "query = \"SELECT cst.annual_income, cr.engine_fuel_type FROM customer cst JOIN car_sales cs ON cst.id = cs.customer JOIN car cr ON cs.car = cr.id WHERE cst.gender = 'Male';\""
   ]
  },
  {
   "cell_type": "markdown",
   "metadata": {},
   "source": [
    "### Dice + Roll Up"
   ]
  },
  {
   "cell_type": "code",
   "execution_count": null,
   "metadata": {},
   "outputs": [],
   "source": [
    "# Get number of sales for a month for all Toyotas\n",
    "query = \"SELECT d.month, c.company, COUNT(cs.id), AVG(cs.price) AS TotalSales FROM car c JOIN car_sales cs ON c.id = cs.car JOIN date d ON cs.date = d.id WHERE c.company = 'Toyota' GROUP BY d.month, c.company;\""
   ]
  },
  {
   "cell_type": "markdown",
   "metadata": {},
   "source": [
    "### Drill Down + Slice"
   ]
  },
  {
   "cell_type": "code",
   "execution_count": null,
   "metadata": {},
   "outputs": [],
   "source": [
    "query = \"SELECT d.month, d.day, c.company, COUNT(cs.id), AVG(cs.price) AS TotalSales FROM car c JOIN car_sales cs ON c.id = cs.car JOIN date d ON cs.date = d.id WHERE c.company = 'Toyota' GROUP BY d.month, d.day, c.company;\""
   ]
  }
 ],
 "metadata": {
  "kernelspec": {
   "display_name": "Python 3 (ipykernel)",
   "language": "python",
   "name": "python3"
  },
  "language_info": {
   "codemirror_mode": {
    "name": "ipython",
    "version": 3
   },
   "file_extension": ".py",
   "mimetype": "text/x-python",
   "name": "python",
   "nbconvert_exporter": "python",
   "pygments_lexer": "ipython3",
   "version": "3.11.9"
  }
 },
 "nbformat": 4,
 "nbformat_minor": 2
}
